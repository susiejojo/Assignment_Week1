{
 "cells": [
  {
   "cell_type": "markdown",
   "metadata": {},
   "source": [
    "# Conceptual Questions:"
   ]
  },
  {
   "cell_type": "markdown",
   "metadata": {},
   "source": [
    "a) i) The histogram for PetalLength is separated into two distinct segments , while those for SepalLength and SepalWidth have no noticeable segments over their range. Also, SepalLength has an almost symmetric distribution, but PetalLength has an outlier and appears bimodal,while the histogram for PetalWidth appears skewed-right.\n"
   ]
  },
  {
   "cell_type": "markdown",
   "metadata": {},
   "source": [
    "ii) The distribution for PetalLength can be segmented into two parts in the range of values from 2 to 3."
   ]
  },
  {
   "cell_type": "markdown",
   "metadata": {},
   "source": [
    "iii) Yes, sepal-length and petal-width have a significantly high difference in medians. Their medians vary by almost 5 units."
   ]
  },
  {
   "cell_type": "markdown",
   "metadata": {},
   "source": [
    "iv) The boxplot for SepalWidth overlaps completely with that for PetalLength. SepalLength has no overlap with the other boxplots."
   ]
  },
  {
   "cell_type": "markdown",
   "metadata": {},
   "source": [
    "Petal-Length has the widest boxplot, so it has the maximum amount of data."
   ]
  },
  {
   "cell_type": "markdown",
   "metadata": {},
   "source": [
    "b) i) In the boxplot for Digits there are many outliers for 100 and 81."
   ]
  },
  {
   "cell_type": "markdown",
   "metadata": {},
   "source": [
    "ii) Boxplots for 100 and 81 have a lot of low outliers and their medians are very high. Besides their min,max are also very high. This may indicate a left-skewed graph."
   ]
  },
  {
   "cell_type": "markdown",
   "metadata": {},
   "source": [
    "iii) As medians for 100 and 81 are exceptionally high as compared to the other features, there is the presence of a lot of low outliers. For the other features, the range is wide enough and the median is placed such that it include all values, which is why there are no outliers. "
   ]
  }
 ],
 "metadata": {
  "kernelspec": {
   "display_name": "Python 3",
   "language": "python",
   "name": "python3"
  },
  "language_info": {
   "codemirror_mode": {
    "name": "ipython",
    "version": 3
   },
   "file_extension": ".py",
   "mimetype": "text/x-python",
   "name": "python",
   "nbconvert_exporter": "python",
   "pygments_lexer": "ipython3",
   "version": "3.6.7"
  }
 },
 "nbformat": 4,
 "nbformat_minor": 2
}
