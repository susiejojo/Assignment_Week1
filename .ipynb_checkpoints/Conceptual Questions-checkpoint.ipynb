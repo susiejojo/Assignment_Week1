{
 "cells": [
  {
   "cell_type": "markdown",
   "metadata": {},
   "source": [
    "# Conceptual Questions:"
   ]
  },
  {
   "cell_type": "markdown",
   "metadata": {},
   "source": [
    "a) i) The histogram for PetalLength is separated into two distinct segments , while those for SepalLength and SepalWidth have no noticeable segments over their range. Also, SepalLength has an almost symmetric distribution, but PetalLength has an outlier and appears bimodal,while the histogram for PetalWidth appears skewed-right.\n"
   ]
  },
  {
   "cell_type": "markdown",
   "metadata": {},
   "source": [
    "ii) The distribution for PetalLength can be segmented into two parts in the range of values from 2 to 3."
   ]
  },
  {
   "cell_type": "markdown",
   "metadata": {},
   "source": []
  },
  {
   "cell_type": "markdown",
   "metadata": {},
   "source": [
    "iii) Yes, sepal-length and petal-width have a significantly high difference in medians. Their medians vary by almost 5 units."
   ]
  },
  {
   "cell_type": "markdown",
   "metadata": {},
   "source": [
    "iv) The boxplot for SepalWidth overlaps with that for PetalLength.\n",
    "Petal-Length has the widest boxplot, so it has the maximum amount of data."
   ]
  },
  {
   "cell_type": "code",
   "execution_count": null,
   "metadata": {},
   "outputs": [],
   "source": []
  }
 ],
 "metadata": {
  "kernelspec": {
   "display_name": "Python 3",
   "language": "python",
   "name": "python3"
  },
  "language_info": {
   "codemirror_mode": {
    "name": "ipython",
    "version": 3
   },
   "file_extension": ".py",
   "mimetype": "text/x-python",
   "name": "python",
   "nbconvert_exporter": "python",
   "pygments_lexer": "ipython3",
   "version": "3.6.7"
  }
 },
 "nbformat": 4,
 "nbformat_minor": 2
}
